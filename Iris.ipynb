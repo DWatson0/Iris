{
 "cells": [
  {
   "cell_type": "code",
   "execution_count": 1,
   "id": "29280fe6-441b-4b4c-aed2-49492c247a70",
   "metadata": {},
   "outputs": [],
   "source": [
    "from ucimlrepo import fetch_ucirepo\n",
    "import numpy as np\n",
    "import tensorflow as tf\n",
    "from tensorflow.keras.models import Sequential\n",
    "from tensorflow.keras.layers import Dense\n",
    "from sklearn.model_selection import train_test_split\n",
    "import pandas as pd\n",
    "import random"
   ]
  },
  {
   "cell_type": "code",
   "execution_count": 2,
   "id": "f3e6cf80-3d93-44e7-b213-85e4d5d0bc49",
   "metadata": {},
   "outputs": [],
   "source": [
    "seed = 12\n",
    "np.random.seed(seed)\n",
    "random.seed(seed)\n",
    "tf.random.set_seed(seed)"
   ]
  },
  {
   "cell_type": "code",
   "execution_count": 3,
   "id": "e85fa13f-c295-4783-b994-a94d97c5dc2b",
   "metadata": {},
   "outputs": [],
   "source": [
    "iris = fetch_ucirepo(id=53) "
   ]
  },
  {
   "cell_type": "code",
   "execution_count": 4,
   "id": "8cc0e513-6a6d-4bf4-8dc0-dd025efcce49",
   "metadata": {},
   "outputs": [],
   "source": [
    "X = iris.data.features \n",
    "y = iris.data.targets"
   ]
  },
  {
   "cell_type": "code",
   "execution_count": 5,
   "id": "fc64bc1e-8aa1-47cb-8074-4308c2102cc7",
   "metadata": {},
   "outputs": [],
   "source": [
    "y = y['class'].map({\n",
    "    'Iris-setosa': 0,\n",
    "    'Iris-versicolor': 1,\n",
    "    'Iris-virginica': 2\n",
    "}).astype(np.float64)"
   ]
  },
  {
   "cell_type": "code",
   "execution_count": 6,
   "id": "9b459078-53e2-4700-b5fb-ced5de0f855d",
   "metadata": {},
   "outputs": [
    {
     "name": "stdout",
     "output_type": "stream",
     "text": [
      "The shape of X is: (150, 4)\n",
      "The shape of y is: (150,)\n"
     ]
    }
   ],
   "source": [
    "print ('The shape of X is:', X.shape)\n",
    "print ('The shape of y is:', y.shape)"
   ]
  },
  {
   "cell_type": "code",
   "execution_count": 7,
   "id": "02b684ae-285b-4041-9fcb-ed40829e5790",
   "metadata": {},
   "outputs": [],
   "source": [
    "X_train, X_test, y_train, y_test = train_test_split(X,y,test_size=0.2, random_state=1)"
   ]
  },
  {
   "cell_type": "code",
   "execution_count": 8,
   "id": "196b7e82-a53f-4f42-a349-ffeeabf63055",
   "metadata": {},
   "outputs": [],
   "source": [
    "model = Sequential(\n",
    "    [\n",
    "        Dense(32,activation = \"relu\"),\n",
    "        Dense(8,activation = \"relu\"),\n",
    "        Dense(4),\n",
    "    ]\n",
    ")\n"
   ]
  },
  {
   "cell_type": "code",
   "execution_count": 9,
   "id": "b151d37c-621e-4e6e-83d7-17156f303da2",
   "metadata": {},
   "outputs": [],
   "source": [
    "model.compile(\n",
    "    loss=tf.keras.losses.SparseCategoricalCrossentropy(from_logits=True),\n",
    "    optimizer=tf.keras.optimizers.Adam(0.001),\n",
    ")"
   ]
  },
  {
   "cell_type": "code",
   "execution_count": 10,
   "id": "1db4fa18-3af7-43cf-9015-a2a4bb0a3742",
   "metadata": {},
   "outputs": [
    {
     "data": {
      "text/plain": [
       "<keras.src.callbacks.history.History at 0x1c381d3c140>"
      ]
     },
     "execution_count": 10,
     "metadata": {},
     "output_type": "execute_result"
    }
   ],
   "source": [
    "model.fit(X_train,y_train,epochs=100, verbose=0)"
   ]
  },
  {
   "cell_type": "code",
   "execution_count": 11,
   "id": "4aa735c8-a020-4505-90b1-dd526aa511d0",
   "metadata": {},
   "outputs": [
    {
     "name": "stdout",
     "output_type": "stream",
     "text": [
      "\u001b[1m1/1\u001b[0m \u001b[32m━━━━━━━━━━━━━━━━━━━━\u001b[0m\u001b[37m\u001b[0m \u001b[1m0s\u001b[0m 55ms/step\n",
      "0, category: 0\n",
      "1, category: 1\n",
      "1, category: 1\n",
      "0, category: 0\n",
      "2, category: 2\n",
      "1, category: 1\n",
      "2, category: 2\n",
      "0, category: 0\n",
      "0, category: 0\n",
      "2, category: 2\n",
      "1, category: 1\n",
      "0, category: 0\n",
      "2, category: 2\n",
      "1, category: 1\n",
      "1, category: 1\n",
      "0, category: 0\n",
      "1, category: 1\n",
      "1, category: 1\n",
      "0, category: 0\n",
      "0, category: 0\n",
      "1, category: 1\n",
      "1, category: 2\n",
      "1, category: 1\n",
      "0, category: 0\n",
      "2, category: 2\n",
      "1, category: 1\n",
      "0, category: 0\n",
      "0, category: 0\n",
      "1, category: 1\n",
      "2, category: 2\n"
     ]
    }
   ],
   "source": [
    "y_pred = model.predict(X_test)\n",
    "for i in range(X_test.shape[0]):\n",
    "    print( f\"{y_test.values[i].astype(int)}, category: {np.argmax(y_pred[i])}\")"
   ]
  },
  {
   "cell_type": "code",
   "execution_count": 12,
   "id": "160c2b90-176f-471b-8312-0e9630fde0f6",
   "metadata": {},
   "outputs": [
    {
     "name": "stdout",
     "output_type": "stream",
     "text": [
      "Accuracy: 0.9666666666666667\n"
     ]
    }
   ],
   "source": [
    "detected = np.sum(y_test.values.astype(int) == np.argmax(y_pred, axis=1))\n",
    "accuracy = detected/X_test.shape[0]\n",
    "print(\"Accuracy:\",accuracy)"
   ]
  },
  {
   "cell_type": "code",
   "execution_count": null,
   "id": "7cb4c10a-c3ce-4d88-85d6-13d5600a3f7f",
   "metadata": {},
   "outputs": [],
   "source": []
  }
 ],
 "metadata": {
  "kernelspec": {
   "display_name": "Python 3 (ipykernel)",
   "language": "python",
   "name": "python3"
  },
  "language_info": {
   "codemirror_mode": {
    "name": "ipython",
    "version": 3
   },
   "file_extension": ".py",
   "mimetype": "text/x-python",
   "name": "python",
   "nbconvert_exporter": "python",
   "pygments_lexer": "ipython3",
   "version": "3.12.1"
  }
 },
 "nbformat": 4,
 "nbformat_minor": 5
}
